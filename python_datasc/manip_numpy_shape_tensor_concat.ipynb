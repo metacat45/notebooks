{
 "cells": [
  {
   "cell_type": "code",
   "execution_count": 53,
   "metadata": {},
   "outputs": [
    {
     "name": "stdout",
     "output_type": "stream",
     "text": [
      "[[ 7  4  8  5]\n",
      " [ 7 10  3  7]\n",
      " [ 8  5  4  8]\n",
      " [ 8  3  6  5]] \n",
      "\n",
      " [[ 2  8  6  2]\n",
      " [ 5  1 10  6]\n",
      " [ 9  1 10  3]\n",
      " [ 7  4  9  3]] \n",
      "\n",
      " [[15 13 17 15]\n",
      " [19 17 12 14]\n",
      " [19 12 20 19]\n",
      " [20 15 12 14]] \n",
      "\n",
      " (4, 4)\n"
     ]
    }
   ],
   "source": [
    "import numpy as np\n",
    "\n",
    "np.random.seed(42)\n",
    "\n",
    "# Matrice aléatoire : entier, flottant , normale ..\n",
    "matr0 = np.random.randint( 1,11, size = (4, 4))\n",
    "matr1 = np.random.randint( 1,11, size = (4, 4))\n",
    "matr2 = np.random.randint( 11,21, size = (4, 4))\n",
    "\n",
    "print(matr0,'\\n\\n', matr1, '\\n\\n',matr2, '\\n\\n', matr0.shape)"
   ]
  },
  {
   "cell_type": "code",
   "execution_count": 54,
   "metadata": {},
   "outputs": [
    {
     "name": "stdout",
     "output_type": "stream",
     "text": [
      "(4, 12)\n",
      "(12, 4)\n"
     ]
    }
   ],
   "source": [
    "#Empilement horizontal\n",
    "print(np.hstack([matr0, matr1, matr2]).shape)\n",
    "\n",
    "#Empilement vertical\n",
    "print(np.vstack([matr0, matr1, matr2]).shape)"
   ]
  },
  {
   "cell_type": "code",
   "execution_count": 63,
   "metadata": {},
   "outputs": [
    {
     "name": "stdout",
     "output_type": "stream",
     "text": [
      "On passe d'une dimension : (4, 4) à une dimension (4, 4, 1)\n",
      "\n",
      "\n",
      "7\n",
      "(3, 4, 4, 1)\n"
     ]
    },
    {
     "ename": "TypeError",
     "evalue": "array() got an unexpected keyword argument 'axis'",
     "output_type": "error",
     "traceback": [
      "\u001b[0;31m---------------------------------------------------------------------------\u001b[0m",
      "\u001b[0;31mTypeError\u001b[0m                                 Traceback (most recent call last)",
      "Input \u001b[0;32mIn [63]\u001b[0m, in \u001b[0;36m<cell line: 15>\u001b[0;34m()\u001b[0m\n\u001b[1;32m     12\u001b[0m new_matr \u001b[38;5;241m=\u001b[39m np\u001b[38;5;241m.\u001b[39marray([matr0_, matr1_, matr2_])\n\u001b[1;32m     13\u001b[0m \u001b[38;5;28mprint\u001b[39m(new_matr\u001b[38;5;241m.\u001b[39mshape)\n\u001b[0;32m---> 15\u001b[0m new_matr_bis \u001b[38;5;241m=\u001b[39m \u001b[43mnp\u001b[49m\u001b[38;5;241;43m.\u001b[39;49m\u001b[43marray\u001b[49m\u001b[43m(\u001b[49m\u001b[43m[\u001b[49m\u001b[43mmatr0_\u001b[49m\u001b[43m,\u001b[49m\u001b[43m \u001b[49m\u001b[43mmatr1_\u001b[49m\u001b[43m,\u001b[49m\u001b[43m \u001b[49m\u001b[43mmatr2_\u001b[49m\u001b[43m]\u001b[49m\u001b[43m,\u001b[49m\u001b[43m \u001b[49m\u001b[43maxis\u001b[49m\u001b[43m \u001b[49m\u001b[38;5;241;43m=\u001b[39;49m\u001b[43m \u001b[49m\u001b[38;5;241;43m-\u001b[39;49m\u001b[38;5;241;43m1\u001b[39;49m\u001b[43m)\u001b[49m\n\u001b[1;32m     16\u001b[0m \u001b[38;5;28mprint\u001b[39m(new_matr_bsi\u001b[38;5;241m.\u001b[39mshape)\n\u001b[1;32m     18\u001b[0m new_matr_ \u001b[38;5;241m=\u001b[39m new_matr\u001b[38;5;241m.\u001b[39msqueeze(\u001b[38;5;241m-\u001b[39m\u001b[38;5;241m1\u001b[39m)\n",
      "\u001b[0;31mTypeError\u001b[0m: array() got an unexpected keyword argument 'axis'"
     ]
    }
   ],
   "source": [
    "#Ajout d'un axe à nos matrices\n",
    "matr0_ = np.expand_dims(matr0, -1)\n",
    "matr1_ = np.expand_dims(matr1, -1)\n",
    "matr2_ = np.expand_dims(matr2, -1)\n",
    "print(\"On passe d'une dimension : \"+str(matr0.shape)+\" à une dimension \"+ str(matr0_.shape)+\"\\n\\n\")\n",
    "\n",
    "# Accès au premier nombre\n",
    "print(matr0_[0,0,0])\n",
    "\n",
    "\n",
    "#Ajout d'une \n",
    "new_matr = np.array([matr0_, matr1_, matr2_])\n",
    "print(new_matr.shape)\n",
    "\n",
    "new_matr_bis = np.array([matr0_, matr1_, matr2_], axis = -1)\n",
    "print(new_matr_bsi.shape)\n",
    "\n",
    "new_matr_ = new_matr.squeeze(-1)\n",
    "print(new_matr_.shape)\n",
    "\n",
    "print(new_matr_)\n",
    "\n",
    "print(new_matr_[2,0,0])\n",
    "print(new_matr_[2,:,:])\n",
    "print(new_matr_[2,:,:].shape)"
   ]
  },
  {
   "cell_type": "code",
   "execution_count": 48,
   "metadata": {},
   "outputs": [
    {
     "name": "stdout",
     "output_type": "stream",
     "text": [
      "(2, 2, 3)\n",
      "[[[1 1 2]\n",
      "  [2 3 3]]\n",
      "\n",
      " [[1 1 1]\n",
      "  [1 1 1]]]\n"
     ]
    }
   ],
   "source": [
    "x = np.array([[[1,1,2], [2,3,3]], [[1,1,1], [1,1,1]]])\n",
    "print(x.shape)\n",
    "print(x)\n"
   ]
  },
  {
   "cell_type": "code",
   "execution_count": 3,
   "metadata": {},
   "outputs": [
    {
     "name": "stdout",
     "output_type": "stream",
     "text": [
      "[[ 2  1  1  4]\n",
      " [ 7  5 10  6]\n",
      " [ 5  8  7 10]\n",
      " [ 5  3  1 10]]\n"
     ]
    }
   ],
   "source": [
    "matr.reshape(2,8)\n",
    "print(matr)"
   ]
  },
  {
   "cell_type": "markdown",
   "metadata": {},
   "source": [
    "### L'objet n'est pas modifié !!"
   ]
  },
  {
   "cell_type": "code",
   "execution_count": 7,
   "metadata": {},
   "outputs": [
    {
     "name": "stdout",
     "output_type": "stream",
     "text": [
      "(4, 4)\n",
      "[[ 2  1  1  4  7  5 10  6]\n",
      " [ 5  8  7 10  5  3  1 10]]\n",
      "(2, 8)\n"
     ]
    }
   ],
   "source": [
    "print(matr.shape)\n",
    "matr2 = matr.reshape(2,8)\n",
    "print(matr2)\n",
    "print(matr2.shape)"
   ]
  },
  {
   "cell_type": "markdown",
   "metadata": {},
   "source": [
    "### Autre  forme d'appel "
   ]
  },
  {
   "cell_type": "code",
   "execution_count": 5,
   "metadata": {},
   "outputs": [
    {
     "name": "stdout",
     "output_type": "stream",
     "text": [
      "[[ 3 10  1  3  7  3  9  5]\n",
      " [ 3  2  5  2  7  1  4  8]]\n"
     ]
    }
   ],
   "source": [
    "matr3 = np.reshape(matr, (2,8))\n",
    "print(matr3)"
   ]
  },
  {
   "cell_type": "markdown",
   "metadata": {},
   "source": [
    "### Autre constructeur"
   ]
  },
  {
   "cell_type": "code",
   "execution_count": 18,
   "metadata": {},
   "outputs": [
    {
     "name": "stdout",
     "output_type": "stream",
     "text": [
      "[ 2  4  6  8 10 12 14 16 18 20 22 24]\n"
     ]
    }
   ],
   "source": [
    "matr = np.arange(2,26,2)\n",
    "print(matr)"
   ]
  },
  {
   "cell_type": "code",
   "execution_count": 19,
   "metadata": {},
   "outputs": [
    {
     "name": "stdout",
     "output_type": "stream",
     "text": [
      "(12,)\n"
     ]
    }
   ],
   "source": [
    "print(matr.shape)\n"
   ]
  },
  {
   "cell_type": "markdown",
   "metadata": {},
   "source": [
    "### Prendre note de la notation (nb,)"
   ]
  },
  {
   "cell_type": "code",
   "execution_count": 20,
   "metadata": {},
   "outputs": [
    {
     "name": "stdout",
     "output_type": "stream",
     "text": [
      "[[ 2  4  6  8]\n",
      " [10 12 14 16]\n",
      " [18 20 22 24]]\n"
     ]
    }
   ],
   "source": [
    "matr2 = matr.reshape(3,4)\n",
    "print(matr2)"
   ]
  },
  {
   "cell_type": "markdown",
   "metadata": {},
   "source": [
    "#### Obtenir des informations"
   ]
  },
  {
   "cell_type": "code",
   "execution_count": 42,
   "metadata": {},
   "outputs": [
    {
     "name": "stdout",
     "output_type": "stream",
     "text": [
      "int32 4 12 1\n",
      "12 2\n"
     ]
    }
   ],
   "source": [
    "print(matr.dtype, matr.itemsize, matr.size,matr.ndim )\n",
    "\n",
    "print(matr2.size, matr2.ndim)\n"
   ]
  },
  {
   "cell_type": "code",
   "execution_count": 22,
   "metadata": {},
   "outputs": [
    {
     "name": "stdout",
     "output_type": "stream",
     "text": [
      "12\n",
      "3\n"
     ]
    }
   ],
   "source": [
    "print(len(matr))\n",
    "print(len(matr2))"
   ]
  },
  {
   "cell_type": "markdown",
   "metadata": {},
   "source": [
    "#### Autre notation"
   ]
  },
  {
   "cell_type": "code",
   "execution_count": 40,
   "metadata": {},
   "outputs": [
    {
     "name": "stdout",
     "output_type": "stream",
     "text": [
      "[[ 2  4  6  8]\n",
      " [10 12 14 16]\n",
      " [18 20 22 24]]\n"
     ]
    }
   ],
   "source": [
    "matr2 = np.reshape(matr, (3,4))\n",
    "print(matr2)"
   ]
  },
  {
   "cell_type": "code",
   "execution_count": 43,
   "metadata": {},
   "outputs": [
    {
     "name": "stdout",
     "output_type": "stream",
     "text": [
      "[[ 2  4  6  8]\n",
      " [10 12 14 16]\n",
      " [18 20 22 24]] shape (3, 4)\n"
     ]
    }
   ],
   "source": [
    "# Matrice\n",
    "print(matr2, 'shape', matr2.shape)"
   ]
  },
  {
   "cell_type": "code",
   "execution_count": 44,
   "metadata": {},
   "outputs": [
    {
     "name": "stdout",
     "output_type": "stream",
     "text": [
      "[[ 2]\n",
      " [ 4]\n",
      " [ 6]\n",
      " [ 8]\n",
      " [10]\n",
      " [12]\n",
      " [14]\n",
      " [16]\n",
      " [18]\n",
      " [20]\n",
      " [22]\n",
      " [24]] shape (12, 1)\n"
     ]
    }
   ],
   "source": [
    "# vecteur colonne\n",
    "matr3 = matr2.reshape(-1,1)\n",
    "print(matr3, 'shape', matr3.shape)"
   ]
  },
  {
   "cell_type": "code",
   "execution_count": 45,
   "metadata": {},
   "outputs": [
    {
     "name": "stdout",
     "output_type": "stream",
     "text": [
      "[[ 2  4  6  8 10 12 14 16 18 20 22 24]] shape (1, 12)\n"
     ]
    }
   ],
   "source": [
    "# vecteur ligne\n",
    "matr3 = matr2.reshape(1,-1)\n",
    "print(matr3, 'shape', matr3.shape)"
   ]
  },
  {
   "cell_type": "code",
   "execution_count": 47,
   "metadata": {},
   "outputs": [
    {
     "name": "stdout",
     "output_type": "stream",
     "text": [
      "[ 2  4  6  8 10 12 14 16 18 20 22 24] shape (12,)\n"
     ]
    }
   ],
   "source": [
    "#liste\n",
    "print(matr, 'shape', matr.shape)"
   ]
  },
  {
   "cell_type": "code",
   "execution_count": null,
   "metadata": {},
   "outputs": [],
   "source": []
  }
 ],
 "metadata": {
  "kernelspec": {
   "display_name": "Python 3 (ipykernel)",
   "language": "python",
   "name": "python3"
  },
  "language_info": {
   "codemirror_mode": {
    "name": "ipython",
    "version": 3
   },
   "file_extension": ".py",
   "mimetype": "text/x-python",
   "name": "python",
   "nbconvert_exporter": "python",
   "pygments_lexer": "ipython3",
   "version": "3.8.0"
  }
 },
 "nbformat": 4,
 "nbformat_minor": 4
}
